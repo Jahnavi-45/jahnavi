{
 "cells": [
  {
   "cell_type": "code",
   "execution_count": null,
   "id": "d2a123f6",
   "metadata": {},
   "outputs": [],
   "source": [
    "## pattern 1"
   ]
  },
  {
   "cell_type": "code",
   "execution_count": 1,
   "id": "789d025b",
   "metadata": {},
   "outputs": [
    {
     "name": "stdout",
     "output_type": "stream",
     "text": [
      "Enter number:6\n",
      "1 \n",
      "1 2 \n",
      "1 2 3 \n",
      "1 2 3 4 \n",
      "1 2 3 4 5 \n",
      "1 2 3 4 5 6 \n"
     ]
    }
   ],
   "source": [
    "n=int(input(\"Enter number:\"))\n",
    "i=1\n",
    "while(i<=n):\n",
    "    j=1\n",
    "    while(j<=i):\n",
    "        print(j,end=\" \")\n",
    "        j=j+1\n",
    "    i=i+1\n",
    "    print()"
   ]
  },
  {
   "cell_type": "code",
   "execution_count": null,
   "id": "48cbd11e",
   "metadata": {},
   "outputs": [],
   "source": [
    "## pattern 2"
   ]
  },
  {
   "cell_type": "code",
   "execution_count": 2,
   "id": "2bb03dac",
   "metadata": {},
   "outputs": [
    {
     "name": "stdout",
     "output_type": "stream",
     "text": [
      "Enter number:6\n",
      "A \n",
      "A B \n",
      "A B C \n",
      "A B C D \n",
      "A B C D E \n",
      "A B C D E F \n"
     ]
    }
   ],
   "source": [
    "n=int(input(\"Enter number:\"))\n",
    "a=64\n",
    "i=1\n",
    "while(i<=n):\n",
    "    j=1\n",
    "    while(j<=i):\n",
    "        print(chr(a+j),end=\" \")\n",
    "        j=j+1\n",
    "    i=i+1\n",
    "    print()"
   ]
  },
  {
   "cell_type": "code",
   "execution_count": null,
   "id": "3bacc358",
   "metadata": {},
   "outputs": [],
   "source": []
  },
  {
   "cell_type": "code",
   "execution_count": null,
   "id": "808808d1",
   "metadata": {},
   "outputs": [],
   "source": [
    "## pattern 3"
   ]
  },
  {
   "cell_type": "code",
   "execution_count": 3,
   "id": "0250fdfa",
   "metadata": {},
   "outputs": [
    {
     "name": "stdout",
     "output_type": "stream",
     "text": [
      "Enter number:6\n",
      "* \n",
      "* * \n",
      "* * * \n",
      "* * * * \n",
      "* * * * * \n",
      "* * * * * * \n"
     ]
    }
   ],
   "source": [
    "n=int(input(\"Enter number:\"))\n",
    "i=1\n",
    "while(i<=n):\n",
    "    j=1\n",
    "    while(j<=i):\n",
    "        print(\"*\",end=\" \")\n",
    "        j=j+1\n",
    "    i=i+1\n",
    "    print()"
   ]
  },
  {
   "cell_type": "code",
   "execution_count": null,
   "id": "5aa1591e",
   "metadata": {},
   "outputs": [],
   "source": []
  },
  {
   "cell_type": "code",
   "execution_count": null,
   "id": "4c913a33",
   "metadata": {},
   "outputs": [],
   "source": [
    "## pattern 4"
   ]
  },
  {
   "cell_type": "code",
   "execution_count": 4,
   "id": "5eed00e6",
   "metadata": {},
   "outputs": [
    {
     "name": "stdout",
     "output_type": "stream",
     "text": [
      "Enter number:6\n",
      "1 \n",
      "2 2 \n",
      "3 3 3 \n",
      "4 4 4 4 \n",
      "5 5 5 5 5 \n",
      "6 6 6 6 6 6 \n"
     ]
    }
   ],
   "source": [
    "n=int(input(\"Enter number:\"))\n",
    "i=1\n",
    "while(i<=n):\n",
    "    j=1\n",
    "    while(j<=i):\n",
    "        print(i,end=\" \")\n",
    "        j=j+1\n",
    "    i=i+1\n",
    "    print()"
   ]
  },
  {
   "cell_type": "code",
   "execution_count": null,
   "id": "a7294139",
   "metadata": {},
   "outputs": [],
   "source": []
  },
  {
   "cell_type": "code",
   "execution_count": null,
   "id": "c1285a2f",
   "metadata": {},
   "outputs": [],
   "source": [
    "## pattern 5"
   ]
  },
  {
   "cell_type": "code",
   "execution_count": 1,
   "id": "73f569a5",
   "metadata": {},
   "outputs": [
    {
     "name": "stdout",
     "output_type": "stream",
     "text": [
      "Enter number:6\n",
      "A \n",
      "B B \n",
      "C C C \n",
      "D D D D \n",
      "E E E E E \n",
      "F F F F F F \n"
     ]
    }
   ],
   "source": [
    "n=int(input(\"Enter number:\"))\n",
    "a=64\n",
    "i=1\n",
    "while(i<=n):\n",
    "    j=1\n",
    "    while(j<=i):\n",
    "        print(chr(a+i),end=\" \")\n",
    "        j=j+1\n",
    "    i=i+1\n",
    "    print()"
   ]
  },
  {
   "cell_type": "code",
   "execution_count": null,
   "id": "2eca6e91",
   "metadata": {},
   "outputs": [],
   "source": []
  },
  {
   "cell_type": "code",
   "execution_count": null,
   "id": "829a57d8",
   "metadata": {},
   "outputs": [],
   "source": [
    "## pattern 6"
   ]
  },
  {
   "cell_type": "code",
   "execution_count": 6,
   "id": "2b64091c",
   "metadata": {},
   "outputs": [
    {
     "name": "stdout",
     "output_type": "stream",
     "text": [
      "Enter number:5\n",
      "          * \n",
      "        * * \n",
      "      * * * \n",
      "    * * * * \n",
      "  * * * * * \n"
     ]
    }
   ],
   "source": [
    "n=int(input(\"Enter number:\"))\n",
    "i=1\n",
    "while(i<=n):\n",
    "    print((\"* \"*i).rjust(12))\n",
    "    i=i+1"
   ]
  },
  {
   "cell_type": "code",
   "execution_count": null,
   "id": "959ae2fb",
   "metadata": {},
   "outputs": [],
   "source": []
  },
  {
   "cell_type": "code",
   "execution_count": null,
   "id": "f6aba2b5",
   "metadata": {},
   "outputs": [],
   "source": [
    "## pattern 7"
   ]
  },
  {
   "cell_type": "code",
   "execution_count": 7,
   "id": "74bbf2d8",
   "metadata": {},
   "outputs": [
    {
     "name": "stdout",
     "output_type": "stream",
     "text": [
      "Enter number:6\n",
      "     1 \n",
      "    1 2 \n",
      "   1 2 3 \n",
      "  1 2 3 4 \n",
      " 1 2 3 4 5 \n",
      "1 2 3 4 5 6 \n"
     ]
    }
   ],
   "source": [
    "n=int(input(\"Enter number:\"))\n",
    "i=1\n",
    "while(i<=n):\n",
    "    print(\" \"*(n-i),end=\"\")\n",
    "    j=1\n",
    "    while(j<=i):\n",
    "        print(j,end=\" \")\n",
    "        j=j+1\n",
    "    i=i+1\n",
    "    print()"
   ]
  },
  {
   "cell_type": "code",
   "execution_count": null,
   "id": "af3899f1",
   "metadata": {},
   "outputs": [],
   "source": []
  },
  {
   "cell_type": "code",
   "execution_count": null,
   "id": "430982bc",
   "metadata": {},
   "outputs": [],
   "source": [
    "## pattern 8"
   ]
  },
  {
   "cell_type": "code",
   "execution_count": 9,
   "id": "408aef8d",
   "metadata": {},
   "outputs": [
    {
     "name": "stdout",
     "output_type": "stream",
     "text": [
      "Enter no of rows:5\n",
      "     5 \n",
      "    4 5 \n",
      "   3 4 5 \n",
      "  2 3 4 5 \n",
      " 1 2 3 4 5 \n"
     ]
    }
   ],
   "source": [
    "n=int(input(\"Enter no of rows:\"))\n",
    "i=1\n",
    "while(i<=n):\n",
    "    print(\" \"*(n-i),end=\" \")\n",
    "    j=(n+1)-i\n",
    "    while(j<=n):\n",
    "        print(j,end=\" \")\n",
    "        j=j+1\n",
    "    i=i+1\n",
    "    print()"
   ]
  },
  {
   "cell_type": "code",
   "execution_count": null,
   "id": "db42b6c2",
   "metadata": {},
   "outputs": [],
   "source": []
  },
  {
   "cell_type": "code",
   "execution_count": null,
   "id": "db3d3ac2",
   "metadata": {},
   "outputs": [],
   "source": [
    "## pattern 9"
   ]
  },
  {
   "cell_type": "code",
   "execution_count": 24,
   "id": "6d3ce5f5",
   "metadata": {},
   "outputs": [
    {
     "name": "stdout",
     "output_type": "stream",
     "text": [
      "Enter no of rows:6\n",
      "      A \n",
      "     A B \n",
      "    A B C \n",
      "   A B C D \n",
      "  A B C D E \n",
      " A B C D E F \n"
     ]
    }
   ],
   "source": [
    "n=int(input(\"Enter no of rows:\"))\n",
    "a=64\n",
    "i=1\n",
    "while(i<=n):\n",
    "    print(\" \"*(n-i),end=\" \")\n",
    "    j=1\n",
    "    while(j<=i):\n",
    "        print(chr(a+j),end=\" \")\n",
    "        j=j+1\n",
    "    i=i+1\n",
    "    print()"
   ]
  },
  {
   "cell_type": "code",
   "execution_count": null,
   "id": "5bb7f466",
   "metadata": {},
   "outputs": [],
   "source": []
  },
  {
   "cell_type": "code",
   "execution_count": null,
   "id": "c931b156",
   "metadata": {},
   "outputs": [],
   "source": [
    "## pattern 10"
   ]
  },
  {
   "cell_type": "code",
   "execution_count": 10,
   "id": "4137f619",
   "metadata": {},
   "outputs": [
    {
     "name": "stdout",
     "output_type": "stream",
     "text": [
      "Enter no of rows:5\n",
      "     E \n",
      "    D E \n",
      "   C D E \n",
      "  B C D E \n",
      " A B C D E \n"
     ]
    }
   ],
   "source": [
    "n=int(input(\"Enter no of rows:\"))\n",
    "a=65\n",
    "i=1\n",
    "while(i<=n):\n",
    "    print(\" \"*(n-i),end=\" \")\n",
    "    j=n-i\n",
    "    while(j<n):\n",
    "        print(chr(a+j),end=\" \")\n",
    "        j=j+1\n",
    "    i=i+1\n",
    "    print()"
   ]
  },
  {
   "cell_type": "code",
   "execution_count": null,
   "id": "56def955",
   "metadata": {},
   "outputs": [],
   "source": []
  },
  {
   "cell_type": "code",
   "execution_count": null,
   "id": "1828433f",
   "metadata": {},
   "outputs": [],
   "source": [
    "## pattern 11"
   ]
  },
  {
   "cell_type": "code",
   "execution_count": 11,
   "id": "eaa10820",
   "metadata": {},
   "outputs": [
    {
     "name": "stdout",
     "output_type": "stream",
     "text": [
      "Enter number:5\n",
      "     *      \n",
      "    ***     \n",
      "   *****    \n",
      "  *******   \n",
      " *********  \n"
     ]
    }
   ],
   "source": [
    "n=int(input(\"Enter number:\"))\n",
    "i=1\n",
    "a=1\n",
    "while(i<=n):\n",
    "    print((\"*\"*(a)).center(12))\n",
    "    a=a+2\n",
    "    i=i+1"
   ]
  },
  {
   "cell_type": "code",
   "execution_count": null,
   "id": "1d6eddd6",
   "metadata": {},
   "outputs": [],
   "source": []
  },
  {
   "cell_type": "code",
   "execution_count": null,
   "id": "cf3dedf4",
   "metadata": {},
   "outputs": [],
   "source": [
    "## pattern 12"
   ]
  },
  {
   "cell_type": "code",
   "execution_count": 26,
   "id": "79ac7ff0",
   "metadata": {},
   "outputs": [
    {
     "name": "stdout",
     "output_type": "stream",
     "text": [
      "Enter no of rows:6\n",
      "      1 \n",
      "     2 2 \n",
      "    3 3 3 \n",
      "   4 4 4 4 \n",
      "  5 5 5 5 5 \n",
      " 6 6 6 6 6 6 \n"
     ]
    }
   ],
   "source": [
    "n=int(input(\"Enter no of rows:\"))\n",
    "i=1\n",
    "while(i<=n):\n",
    "    print(\" \"*(n-i),end=\" \")\n",
    "    j=1\n",
    "    while(j<=i):\n",
    "        print(i,end=\" \")\n",
    "        j=j+1\n",
    "    i=i+1\n",
    "    print()"
   ]
  },
  {
   "cell_type": "code",
   "execution_count": null,
   "id": "d935440e",
   "metadata": {},
   "outputs": [],
   "source": []
  },
  {
   "cell_type": "code",
   "execution_count": null,
   "id": "381f714a",
   "metadata": {},
   "outputs": [],
   "source": [
    "## pattern 13"
   ]
  },
  {
   "cell_type": "code",
   "execution_count": 28,
   "id": "5401f933",
   "metadata": {},
   "outputs": [
    {
     "name": "stdout",
     "output_type": "stream",
     "text": [
      "Enter no of rows:6\n",
      "      A \n",
      "     B B \n",
      "    C C C \n",
      "   D D D D \n",
      "  E E E E E \n",
      " F F F F F F \n"
     ]
    }
   ],
   "source": [
    "n=int(input(\"Enter no of rows:\"))\n",
    "a=64\n",
    "i=1\n",
    "while(i<=n):\n",
    "    print(\" \"*(n-i),end=\" \")\n",
    "    j=1\n",
    "    while(j<=i):\n",
    "        print(chr(a+i),end=\" \")\n",
    "        j=j+1\n",
    "    i=i+1\n",
    "    print()"
   ]
  },
  {
   "cell_type": "code",
   "execution_count": null,
   "id": "e1e343a7",
   "metadata": {},
   "outputs": [],
   "source": []
  },
  {
   "cell_type": "code",
   "execution_count": null,
   "id": "ff8902f6",
   "metadata": {},
   "outputs": [],
   "source": [
    "## pattern 14"
   ]
  },
  {
   "cell_type": "code",
   "execution_count": 12,
   "id": "23e1f533",
   "metadata": {},
   "outputs": [
    {
     "name": "stdout",
     "output_type": "stream",
     "text": [
      "Enter number:6\n",
      "1 2 3 4 5 6 \n",
      "1 2 3 4 5 \n",
      "1 2 3 4 \n",
      "1 2 3 \n",
      "1 2 \n",
      "1 \n"
     ]
    }
   ],
   "source": [
    "n=int(input(\"Enter number:\"))\n",
    "i=n\n",
    "while i>=1 and i<=n:\n",
    "    j=1\n",
    "    while j<=i:\n",
    "        print(j,end=\" \")\n",
    "        j=j+1\n",
    "    i=i-1\n",
    "    print()"
   ]
  },
  {
   "cell_type": "code",
   "execution_count": null,
   "id": "b5cfa38c",
   "metadata": {},
   "outputs": [],
   "source": []
  },
  {
   "cell_type": "code",
   "execution_count": null,
   "id": "c6aa4400",
   "metadata": {},
   "outputs": [],
   "source": [
    "## pattern 15"
   ]
  },
  {
   "cell_type": "code",
   "execution_count": 13,
   "id": "4d62b4d0",
   "metadata": {},
   "outputs": [
    {
     "name": "stdout",
     "output_type": "stream",
     "text": [
      "Enter number:6\n",
      "6 5 4 3 2 1 \n",
      "6 5 4 3 2 \n",
      "6 5 4 3 \n",
      "6 5 4 \n",
      "6 5 \n",
      "6 \n"
     ]
    }
   ],
   "source": [
    "n=int(input(\"Enter number:\"))\n",
    "i=n\n",
    "while i>=1 and i<=n:\n",
    "    j=1\n",
    "    a=n\n",
    "    while j<=i:\n",
    "        print(a,end=\" \")\n",
    "        a=a-1\n",
    "        j=j+1\n",
    "    i=i-1\n",
    "    print()"
   ]
  },
  {
   "cell_type": "code",
   "execution_count": null,
   "id": "41004fdf",
   "metadata": {},
   "outputs": [],
   "source": []
  },
  {
   "cell_type": "code",
   "execution_count": null,
   "id": "2fcc4d7a",
   "metadata": {},
   "outputs": [],
   "source": [
    "## pattern 16"
   ]
  },
  {
   "cell_type": "code",
   "execution_count": 31,
   "id": "20f5f492",
   "metadata": {},
   "outputs": [
    {
     "name": "stdout",
     "output_type": "stream",
     "text": [
      "Enter no of rows:5\n",
      "5 \n",
      "5 4 \n",
      "5 4 3 \n",
      "5 4 3 2 \n",
      "5 4 3 2 1 \n"
     ]
    }
   ],
   "source": [
    "n=int(input(\"Enter no of rows:\"))\n",
    "i=1\n",
    "while(i<=n):\n",
    "    j=n\n",
    "    while(j>n-i):\n",
    "        print(j,end=\" \")\n",
    "        j=j-1\n",
    "    i=i+1\n",
    "    print()"
   ]
  },
  {
   "cell_type": "code",
   "execution_count": null,
   "id": "f1e02c28",
   "metadata": {},
   "outputs": [],
   "source": []
  },
  {
   "cell_type": "code",
   "execution_count": null,
   "id": "845647ca",
   "metadata": {},
   "outputs": [],
   "source": [
    "## pattern 17"
   ]
  },
  {
   "cell_type": "code",
   "execution_count": 34,
   "id": "5741ad3c",
   "metadata": {},
   "outputs": [
    {
     "name": "stdout",
     "output_type": "stream",
     "text": [
      "Enter no of rows:5\n",
      "1 \n",
      "2 3 \n",
      "4 5 6 \n",
      "7 8 9 10 \n",
      "11 12 13 14 15 \n"
     ]
    }
   ],
   "source": [
    "n=int(input(\"Enter no of rows:\"))\n",
    "a=1\n",
    "i=1\n",
    "while(i<=n):\n",
    "    j=1\n",
    "    while(j<=i):\n",
    "        print(a,end=\" \")\n",
    "        a=a+1\n",
    "        j=j+1\n",
    "    i=i+1\n",
    "    print()"
   ]
  },
  {
   "cell_type": "code",
   "execution_count": null,
   "id": "531ec03e",
   "metadata": {},
   "outputs": [],
   "source": []
  },
  {
   "cell_type": "code",
   "execution_count": null,
   "id": "e96bfc0d",
   "metadata": {},
   "outputs": [],
   "source": [
    "## pattern 18"
   ]
  },
  {
   "cell_type": "code",
   "execution_count": 2,
   "id": "8f1219c1",
   "metadata": {},
   "outputs": [
    {
     "name": "stdout",
     "output_type": "stream",
     "text": [
      "Enter no of rows:6\n",
      "A B C D E F \n",
      "A B C D E \n",
      "A B C D \n",
      "A B C \n",
      "A B \n",
      "A \n"
     ]
    }
   ],
   "source": [
    "n=int(input(\"Enter no of rows:\"))\n",
    "a=64\n",
    "i=n\n",
    "while(i>0):\n",
    "    j=1\n",
    "    while(j<=i):\n",
    "        print(chr(a+j),end=\" \")\n",
    "        j=j+1\n",
    "    i=i-1\n",
    "    print()"
   ]
  },
  {
   "cell_type": "code",
   "execution_count": null,
   "id": "f3e35943",
   "metadata": {},
   "outputs": [],
   "source": []
  },
  {
   "cell_type": "code",
   "execution_count": null,
   "id": "8320e7e3",
   "metadata": {},
   "outputs": [],
   "source": [
    "## pattern 19"
   ]
  },
  {
   "cell_type": "code",
   "execution_count": 3,
   "id": "971383f0",
   "metadata": {},
   "outputs": [
    {
     "name": "stdout",
     "output_type": "stream",
     "text": [
      "Enter no of rows:6\n",
      "******\n",
      "*****\n",
      "****\n",
      "***\n",
      "**\n",
      "*\n"
     ]
    }
   ],
   "source": [
    "n=int(input(\"Enter no of rows:\"))\n",
    "i=n\n",
    "while(i>0):\n",
    "    print(\"*\"*i)\n",
    "    i=i-1"
   ]
  },
  {
   "cell_type": "code",
   "execution_count": null,
   "id": "261e6455",
   "metadata": {},
   "outputs": [],
   "source": []
  },
  {
   "cell_type": "code",
   "execution_count": null,
   "id": "25848501",
   "metadata": {},
   "outputs": [],
   "source": [
    "## pattern 20"
   ]
  },
  {
   "cell_type": "code",
   "execution_count": 1,
   "id": "a876dd71",
   "metadata": {},
   "outputs": [
    {
     "name": "stdout",
     "output_type": "stream",
     "text": [
      "Enter no of rows:6\n",
      "******\n",
      " *****\n",
      "  ****\n",
      "   ***\n",
      "    **\n",
      "     *\n"
     ]
    }
   ],
   "source": [
    "n=int(input(\"Enter no of rows:\"))\n",
    "i=n\n",
    "while(i>0):\n",
    "    print(\" \"*(n-i)+\"*\"*i)\n",
    "    i=i-1"
   ]
  },
  {
   "cell_type": "code",
   "execution_count": null,
   "id": "1d2308e7",
   "metadata": {},
   "outputs": [],
   "source": []
  },
  {
   "cell_type": "code",
   "execution_count": null,
   "id": "005e1c3d",
   "metadata": {},
   "outputs": [],
   "source": [
    "## pattern 21"
   ]
  },
  {
   "cell_type": "code",
   "execution_count": 13,
   "id": "cab47b9e",
   "metadata": {},
   "outputs": [
    {
     "name": "stdout",
     "output_type": "stream",
     "text": [
      "*\n",
      "**\n",
      "***\n",
      "****\n",
      "*****\n",
      "*****\n",
      "****\n",
      "***\n",
      "**\n",
      "*\n"
     ]
    }
   ],
   "source": [
    "i=1\n",
    "while(i<6):\n",
    "    print(\"*\"*i)\n",
    "    i=i+1\n",
    "j=5\n",
    "while(j>0):\n",
    "    print(\"*\"*j)\n",
    "    j=j-1"
   ]
  },
  {
   "cell_type": "code",
   "execution_count": null,
   "id": "522ba8e4",
   "metadata": {},
   "outputs": [],
   "source": []
  },
  {
   "cell_type": "code",
   "execution_count": null,
   "id": "ee69cf8a",
   "metadata": {},
   "outputs": [],
   "source": [
    "## pattern 22"
   ]
  },
  {
   "cell_type": "code",
   "execution_count": 10,
   "id": "b3be651c",
   "metadata": {},
   "outputs": [
    {
     "name": "stdout",
     "output_type": "stream",
     "text": [
      "******\n",
      "*****\n",
      "****\n",
      "***\n",
      "**\n",
      "*\n",
      "**\n",
      "***\n",
      "****\n",
      "*****\n",
      "******\n"
     ]
    }
   ],
   "source": [
    "j=6\n",
    "while(j>0):\n",
    "    print(\"*\"*j)\n",
    "    j=j-1\n",
    "i=2\n",
    "while(i<7):\n",
    "    print(\"*\"*i)\n",
    "    i=i+1"
   ]
  },
  {
   "cell_type": "code",
   "execution_count": null,
   "id": "039f4734",
   "metadata": {},
   "outputs": [],
   "source": []
  },
  {
   "cell_type": "code",
   "execution_count": null,
   "id": "e8e6c55a",
   "metadata": {},
   "outputs": [],
   "source": [
    "## pattern 23"
   ]
  },
  {
   "cell_type": "code",
   "execution_count": 16,
   "id": "47e6ad5d",
   "metadata": {},
   "outputs": [
    {
     "name": "stdout",
     "output_type": "stream",
     "text": [
      "     *\n",
      "    **\n",
      "   ***\n",
      "  ****\n",
      " *****\n",
      "******\n",
      " *****\n",
      "  ****\n",
      "   ***\n",
      "    **\n",
      "     *\n"
     ]
    }
   ],
   "source": [
    "i=1\n",
    "while(i<6):\n",
    "    print(\" \"*(6-i)+\"*\"*(i))\n",
    "    i=i+1\n",
    "j=6\n",
    "while(j>0):\n",
    "    print(\" \"*(6-j)+\"*\"*j)\n",
    "    j=j-1"
   ]
  },
  {
   "cell_type": "code",
   "execution_count": null,
   "id": "a26b7b38",
   "metadata": {},
   "outputs": [],
   "source": []
  },
  {
   "cell_type": "code",
   "execution_count": null,
   "id": "a100fd32",
   "metadata": {},
   "outputs": [],
   "source": [
    "## pattern 24"
   ]
  },
  {
   "cell_type": "code",
   "execution_count": 18,
   "id": "b1b71f6a",
   "metadata": {},
   "outputs": [
    {
     "name": "stdout",
     "output_type": "stream",
     "text": [
      "******\n",
      " *****\n",
      "  ****\n",
      "   ***\n",
      "    **\n",
      "     *\n",
      "    **\n",
      "   ***\n",
      "  ****\n",
      " *****\n",
      "******\n"
     ]
    }
   ],
   "source": [
    "i=6\n",
    "while(i>0):\n",
    "    print(\" \"*(6-i)+\"*\"*i)\n",
    "    i=i-1\n",
    "j=2\n",
    "while(j<7):\n",
    "    print(\" \"*(6-j)+\"*\"*(j))\n",
    "    j=j+1"
   ]
  },
  {
   "cell_type": "code",
   "execution_count": null,
   "id": "fa0ce8b5",
   "metadata": {},
   "outputs": [],
   "source": []
  },
  {
   "cell_type": "code",
   "execution_count": null,
   "id": "5e21e165",
   "metadata": {},
   "outputs": [],
   "source": [
    "## pattern 25"
   ]
  },
  {
   "cell_type": "code",
   "execution_count": 23,
   "id": "ceedaf0d",
   "metadata": {},
   "outputs": [
    {
     "name": "stdout",
     "output_type": "stream",
     "text": [
      "********* \n",
      " *******  \n",
      "  *****   \n",
      "   ***    \n",
      "    *     \n",
      "   ***    \n",
      "  *****   \n",
      " *******  \n",
      "********* \n"
     ]
    }
   ],
   "source": [
    "i=9\n",
    "while(i>0):\n",
    "    m=\"*\"*i\n",
    "    print(m.center(10,\" \"))\n",
    "    i=i-2\n",
    "j=3\n",
    "while(j<10):\n",
    "    m=\"*\"*j\n",
    "    print(m.center(10,\" \"))\n",
    "    j=j+2"
   ]
  },
  {
   "cell_type": "code",
   "execution_count": null,
   "id": "a3a893e1",
   "metadata": {},
   "outputs": [],
   "source": []
  },
  {
   "cell_type": "code",
   "execution_count": null,
   "id": "ebea33c6",
   "metadata": {},
   "outputs": [],
   "source": [
    "## pattern 26"
   ]
  },
  {
   "cell_type": "code",
   "execution_count": 26,
   "id": "54a29e7f",
   "metadata": {},
   "outputs": [
    {
     "name": "stdout",
     "output_type": "stream",
     "text": [
      "*            *\n",
      "**          **\n",
      "***        ***\n",
      "****      ****\n",
      "*****    *****\n",
      "******  ******\n",
      "**************\n"
     ]
    }
   ],
   "source": [
    "i=1\n",
    "while(i<=7):\n",
    "    print(\"*\"*(i),\" \"*((7-i)*2),\"*\"*(i),sep=\"\")\n",
    "    i=i+1"
   ]
  },
  {
   "cell_type": "code",
   "execution_count": null,
   "id": "81558c17",
   "metadata": {},
   "outputs": [],
   "source": []
  },
  {
   "cell_type": "code",
   "execution_count": null,
   "id": "0eb676b7",
   "metadata": {},
   "outputs": [],
   "source": [
    "## pattern 27"
   ]
  },
  {
   "cell_type": "code",
   "execution_count": 27,
   "id": "8b01efb9",
   "metadata": {},
   "outputs": [
    {
     "name": "stdout",
     "output_type": "stream",
     "text": [
      "Enter no of rows: 6\n",
      "************\n",
      "*****  *****\n",
      "****    ****\n",
      "***      ***\n",
      "**        **\n",
      "*          *\n"
     ]
    }
   ],
   "source": [
    "a=int(input(\"Enter no of rows: \"))\n",
    "i=0\n",
    "while(i<a):\n",
    "    print(\"*\"*(a-i),\" \"*(i)*2,\"*\"*(a-i),sep=\"\")\n",
    "    i=i+1"
   ]
  },
  {
   "cell_type": "code",
   "execution_count": null,
   "id": "b021269a",
   "metadata": {},
   "outputs": [],
   "source": []
  },
  {
   "cell_type": "code",
   "execution_count": null,
   "id": "8b004262",
   "metadata": {},
   "outputs": [],
   "source": [
    "## pattern 28"
   ]
  },
  {
   "cell_type": "code",
   "execution_count": 28,
   "id": "117b160f",
   "metadata": {},
   "outputs": [
    {
     "name": "stdout",
     "output_type": "stream",
     "text": [
      "Enter no of rows: 12\n",
      "*          *\n",
      "**        **\n",
      "***      ***\n",
      "****    ****\n",
      "*****  *****\n",
      "************\n",
      "*****  *****\n",
      "****    ****\n",
      "***      ***\n",
      "**        **\n",
      "*          *\n"
     ]
    }
   ],
   "source": [
    "n=int(input(\"Enter no of rows: \"))\n",
    "a=(n//2)\n",
    "i=1\n",
    "while(i<a):\n",
    "    print(\"*\"*(i),\" \"*((a-i)*2),\"*\"*(i),sep=\"\")\n",
    "    i=i+1\n",
    "j=0    \n",
    "while(j<a):\n",
    "    print(\"*\"*(a-j),\" \"*(j)*2,\"*\"*(a-j),sep=\"\")\n",
    "    j=j+1"
   ]
  },
  {
   "cell_type": "code",
   "execution_count": null,
   "id": "c2380fab",
   "metadata": {},
   "outputs": [],
   "source": []
  },
  {
   "cell_type": "code",
   "execution_count": null,
   "id": "ce42ad8d",
   "metadata": {},
   "outputs": [],
   "source": [
    "## pattern 29"
   ]
  },
  {
   "cell_type": "code",
   "execution_count": 17,
   "id": "d6f6720d",
   "metadata": {},
   "outputs": [
    {
     "name": "stdout",
     "output_type": "stream",
     "text": [
      "Enter no of rows: 12\n",
      "************\n",
      "*****  *****\n",
      "****    ****\n",
      "***      ***\n",
      "**        **\n",
      "*          *\n",
      "**        **\n",
      "***      ***\n",
      "****    ****\n",
      "*****  *****\n",
      "************\n"
     ]
    }
   ],
   "source": [
    "n=int(input(\"Enter no of rows: \"))\n",
    "a=(n//2)\n",
    "print(\"*\"*n)\n",
    "i=1\n",
    "while(i<a):\n",
    "    print(\"*\"*(a-i),\" \"*(i*2),\"*\"*(a-i),sep=\"\")\n",
    "    i=i+1\n",
    "i=2\n",
    "while(i<a):\n",
    "    print(\"*\"*(i),\" \"*((a-i)*2),\"*\"*(i),sep=\"\")\n",
    "    i=i+1\n",
    "print(\"*\"*n)"
   ]
  },
  {
   "cell_type": "code",
   "execution_count": null,
   "id": "66bdd7f7",
   "metadata": {},
   "outputs": [],
   "source": []
  },
  {
   "cell_type": "code",
   "execution_count": null,
   "id": "49fb69e2",
   "metadata": {},
   "outputs": [],
   "source": [
    "## pattern 30"
   ]
  },
  {
   "cell_type": "code",
   "execution_count": 2,
   "id": "51d30e30",
   "metadata": {},
   "outputs": [
    {
     "name": "stdout",
     "output_type": "stream",
     "text": [
      "Enter no of rows:6\n",
      "*\n",
      "**\n",
      "* * \n",
      "*  *  \n",
      "*   *   \n",
      "******\n"
     ]
    }
   ],
   "source": [
    "n=int(input(\"Enter no of rows:\"))\n",
    "print(\"*\")\n",
    "i=2\n",
    "while(i<n):\n",
    "    j=1\n",
    "    while(j<=2):\n",
    "        print(\"*\",end=\"\")\n",
    "        print(\" \"*(i-2),end=\"\")\n",
    "        j=j+1\n",
    "    i=i+1\n",
    "    print()\n",
    "print(\"*\"*n)"
   ]
  },
  {
   "cell_type": "code",
   "execution_count": null,
   "id": "49abad7f",
   "metadata": {},
   "outputs": [],
   "source": []
  },
  {
   "cell_type": "code",
   "execution_count": null,
   "id": "64c4ffe5",
   "metadata": {},
   "outputs": [],
   "source": [
    "## pattern 31"
   ]
  },
  {
   "cell_type": "code",
   "execution_count": 28,
   "id": "3ff78bc8",
   "metadata": {},
   "outputs": [
    {
     "name": "stdout",
     "output_type": "stream",
     "text": [
      "Enter no of rows:6\n",
      "******\n",
      "*   *\n",
      "*  *\n",
      "* *\n",
      "**\n",
      "*\n"
     ]
    }
   ],
   "source": [
    "n=int(input(\"Enter no of rows:\"))\n",
    "print(\"*\"*n)\n",
    "a=\" \"\n",
    "i=n-1\n",
    "while(i>1):\n",
    "    a=\"*\"+\" \"*(i-2)+\"*\"\n",
    "    print(a)\n",
    "    i=i-1\n",
    "print(\"*\")"
   ]
  },
  {
   "cell_type": "code",
   "execution_count": null,
   "id": "7d3e3875",
   "metadata": {},
   "outputs": [],
   "source": []
  },
  {
   "cell_type": "code",
   "execution_count": null,
   "id": "05a2e6b2",
   "metadata": {},
   "outputs": [],
   "source": [
    "## pattern 32"
   ]
  },
  {
   "cell_type": "code",
   "execution_count": 21,
   "id": "9d3d6dd8",
   "metadata": {},
   "outputs": [
    {
     "name": "stdout",
     "output_type": "stream",
     "text": [
      "Enter no of rows:6\n",
      "     *\n",
      "    **\n",
      "   * *\n",
      "  *  *\n",
      " *   *\n",
      "******\n"
     ]
    }
   ],
   "source": [
    "n=int(input(\"Enter no of rows:\"))\n",
    "print(\"*\".rjust(n))\n",
    "a=\" \"\n",
    "i=2\n",
    "while(i<n):\n",
    "    a=\"*\"+\" \"*(i-2)+\"*\"\n",
    "    print(a.rjust(n))\n",
    "    i=i+1\n",
    "print(\"*\"*n)"
   ]
  },
  {
   "cell_type": "code",
   "execution_count": null,
   "id": "302248da",
   "metadata": {},
   "outputs": [],
   "source": []
  },
  {
   "cell_type": "code",
   "execution_count": null,
   "id": "d2bb77f1",
   "metadata": {},
   "outputs": [],
   "source": [
    "## pattern 33"
   ]
  },
  {
   "cell_type": "code",
   "execution_count": 47,
   "id": "b3758f24",
   "metadata": {},
   "outputs": [
    {
     "name": "stdout",
     "output_type": "stream",
     "text": [
      "Enter no of rows:12\n",
      "******\n",
      "*   *   \n",
      "*  *  \n",
      "* * \n",
      "**\n",
      "*\n",
      "**\n",
      "* * \n",
      "*  *  \n",
      "*   *   \n",
      "******\n"
     ]
    }
   ],
   "source": [
    "a=int(input(\"Enter no of rows:\"))\n",
    "n=a//2\n",
    "print(\"*\"*n)\n",
    "i=n-1\n",
    "while(i>1):\n",
    "    j=0\n",
    "    while(j<2):\n",
    "        print(\"*\",end=\"\")\n",
    "        print(\" \"*(i-2),end=\"\")\n",
    "        j=j+1\n",
    "    i=i-1\n",
    "    print()\n",
    "print(\"*\")\n",
    "i=2\n",
    "while(i<n):\n",
    "    j=0\n",
    "    while(j<2):\n",
    "        print(\"*\",end=\"\")\n",
    "        print(\" \"*(i-2),end=\"\")\n",
    "        j=j+1\n",
    "    i=i+1\n",
    "    print()\n",
    "print(\"*\"*n)"
   ]
  },
  {
   "cell_type": "code",
   "execution_count": null,
   "id": "72eda3a6",
   "metadata": {},
   "outputs": [],
   "source": []
  },
  {
   "cell_type": "code",
   "execution_count": null,
   "id": "9525d052",
   "metadata": {},
   "outputs": [],
   "source": [
    "## pattern 34"
   ]
  },
  {
   "cell_type": "code",
   "execution_count": 45,
   "id": "1312d178",
   "metadata": {},
   "outputs": [
    {
     "name": "stdout",
     "output_type": "stream",
     "text": [
      "Enter no of rows:12\n",
      "     *      \n",
      "    **\n",
      "   * *\n",
      "  *  *\n",
      " *   *\n",
      "*    *\n",
      " *   *\n",
      "  *  *\n",
      "   * *\n",
      "    **\n",
      "     *      \n"
     ]
    }
   ],
   "source": [
    "a=int(input(\"Enter no of rows:\"))\n",
    "n=a//2\n",
    "print(\"*\".center(n*2))\n",
    "a=\" \"\n",
    "i=2\n",
    "while(i<n):\n",
    "    b=\"*\"+\" \"*(i-2)+\"*\"\n",
    "    print(b.rjust(n))\n",
    "    i=i+1\n",
    "j=n\n",
    "while(j>1):\n",
    "    b=\"*\"+\" \"*(j-2)+\"*\"\n",
    "    print(b.rjust(n))\n",
    "    j=j-1\n",
    "print(\"*\".center(n*2))"
   ]
  },
  {
   "cell_type": "code",
   "execution_count": null,
   "id": "d4a35ba8",
   "metadata": {},
   "outputs": [],
   "source": []
  },
  {
   "cell_type": "code",
   "execution_count": null,
   "id": "1b001108",
   "metadata": {},
   "outputs": [],
   "source": [
    "## pattern 35"
   ]
  },
  {
   "cell_type": "code",
   "execution_count": 16,
   "id": "1e23f663",
   "metadata": {},
   "outputs": [
    {
     "name": "stdout",
     "output_type": "stream",
     "text": [
      "Enter no of rows:12\n",
      "******\n",
      " *   *\n",
      "  *  *\n",
      "   * *\n",
      "    **\n",
      "     *\n",
      "    **\n",
      "   * *\n",
      "  *  *\n",
      " *   *\n",
      "******\n"
     ]
    }
   ],
   "source": [
    "a=int(input(\"Enter no of rows:\"))\n",
    "n=a//2\n",
    "print((\"*\"*n).rjust(n))\n",
    "a=\" \"\n",
    "i=(n-1)\n",
    "while(i>1):\n",
    "    a=\"*\"+\" \"*(i-2)+\"*\"\n",
    "    print(a.rjust(n))\n",
    "    i=i-1\n",
    "print(\"*\".rjust(n))\n",
    "a=\" \"\n",
    "j=2\n",
    "while(j<n):\n",
    "    a=\"*\"+\" \"*(j-2)+\"*\"\n",
    "    print(a.rjust(n))\n",
    "    j=j+1\n",
    "print(\"*\"*n)"
   ]
  },
  {
   "cell_type": "code",
   "execution_count": null,
   "id": "eb564ad1",
   "metadata": {},
   "outputs": [],
   "source": []
  },
  {
   "cell_type": "code",
   "execution_count": null,
   "id": "4a7fbefd",
   "metadata": {},
   "outputs": [],
   "source": [
    "## pattern 36"
   ]
  },
  {
   "cell_type": "code",
   "execution_count": 13,
   "id": "711de0b4",
   "metadata": {},
   "outputs": [
    {
     "name": "stdout",
     "output_type": "stream",
     "text": [
      "    *     \n",
      "   * *\n",
      "  *   *\n",
      " *     *\n",
      "*********\n"
     ]
    }
   ],
   "source": [
    "print(\"*\".center(10))\n",
    "n=7\n",
    "a=1\n",
    "i=1\n",
    "while(i<n+1):\n",
    "    n=n-2\n",
    "    print(\" \"*(4-i),\"*\",\" \"*a,\"*\",sep=\"\")\n",
    "    a=a+2\n",
    "    i=i+1\n",
    "print(\"*\"*9)"
   ]
  },
  {
   "cell_type": "code",
   "execution_count": null,
   "id": "8cb185e7",
   "metadata": {},
   "outputs": [],
   "source": []
  },
  {
   "cell_type": "code",
   "execution_count": null,
   "id": "477ffb69",
   "metadata": {},
   "outputs": [],
   "source": [
    "## pattern 37"
   ]
  },
  {
   "cell_type": "code",
   "execution_count": 9,
   "id": "a71937c6",
   "metadata": {},
   "outputs": [
    {
     "name": "stdout",
     "output_type": "stream",
     "text": [
      "*********\n",
      " *     *\n",
      "  *   *\n",
      "   * *\n",
      "    *     \n"
     ]
    }
   ],
   "source": [
    "print(\"*\"*9)\n",
    "n=7\n",
    "i=1\n",
    "while(i<=n):\n",
    "    n=n-2\n",
    "    print(\" \"*(i),\"*\",\" \"*n,\"*\",sep=\"\")\n",
    "    i=i+1\n",
    "print(\"*\".center(10))"
   ]
  },
  {
   "cell_type": "code",
   "execution_count": null,
   "id": "ac129d3a",
   "metadata": {},
   "outputs": [],
   "source": []
  },
  {
   "cell_type": "code",
   "execution_count": null,
   "id": "5dfaec66",
   "metadata": {},
   "outputs": [],
   "source": [
    "## pattern 38"
   ]
  },
  {
   "cell_type": "code",
   "execution_count": 18,
   "id": "f24e89e5",
   "metadata": {},
   "outputs": [
    {
     "name": "stdout",
     "output_type": "stream",
     "text": [
      "enter no of rows:9\n",
      "         *          \n",
      "        * *\n",
      "       *   *\n",
      "      *     *\n",
      "     *       *\n",
      "      *     *\n",
      "       *   *\n",
      "        * *\n",
      "         *          \n"
     ]
    }
   ],
   "source": [
    "n=int(input(\"enter no of rows:\"))\n",
    "print(\"*\".center((n*2)+2))\n",
    "i=1\n",
    "a=1\n",
    "while i<n-1:\n",
    "    if i<(n//2):\n",
    "        print(\" \"*(n-i),\"*\",\" \"*a,\"*\",sep=\"\")\n",
    "        a=a+2\n",
    "        i=i+1\n",
    "    else:\n",
    "        print(\" \"*(i+1),\"*\",\" \"*a,\"*\",sep=\"\")\n",
    "        i=i+1\n",
    "        a=a-2\n",
    "print(\"*\".center((n*2)+2))"
   ]
  },
  {
   "cell_type": "code",
   "execution_count": null,
   "id": "3af9bf5b",
   "metadata": {},
   "outputs": [],
   "source": []
  },
  {
   "cell_type": "code",
   "execution_count": null,
   "id": "72f2a776",
   "metadata": {},
   "outputs": [],
   "source": [
    "## pattern 39"
   ]
  },
  {
   "cell_type": "code",
   "execution_count": 20,
   "id": "417b4af9",
   "metadata": {},
   "outputs": [
    {
     "name": "stdout",
     "output_type": "stream",
     "text": [
      "enter no of rows:9\n",
      "*********\n",
      " *     *\n",
      "  *   *\n",
      "   * *\n",
      "    *    \n",
      "   * *\n",
      "  *   *\n",
      " *     *\n",
      "*********\n"
     ]
    }
   ],
   "source": [
    "n=int(input(\"enter no of rows:\"))\n",
    "print(\"*\"*n)\n",
    "i=2\n",
    "a=1\n",
    "while i<n:\n",
    "    if i<(n//2)+1:\n",
    "        print(\" \"*(i-1),\"*\",\" \"*(n-(i*2)),\"*\",sep=\"\")\n",
    "        i=i+1\n",
    "    elif i==(n//2)+1:\n",
    "        print(\"*\".center(n))\n",
    "        i=i+1\n",
    "    else:\n",
    "        print(\" \"*(n-i),\"*\",\" \"*a,\"*\",sep=\"\")\n",
    "        a=a+2\n",
    "        i=i+1\n",
    "print(\"*\"*n)"
   ]
  },
  {
   "cell_type": "code",
   "execution_count": null,
   "id": "66aea389",
   "metadata": {},
   "outputs": [],
   "source": []
  },
  {
   "cell_type": "code",
   "execution_count": null,
   "id": "84ef4600",
   "metadata": {},
   "outputs": [],
   "source": [
    "## pattern 40"
   ]
  },
  {
   "cell_type": "code",
   "execution_count": 21,
   "id": "c9c70f7b",
   "metadata": {},
   "outputs": [
    {
     "name": "stdout",
     "output_type": "stream",
     "text": [
      "*****\n",
      "*****\n",
      "*****\n",
      "*****\n",
      "*****\n",
      "*****\n"
     ]
    }
   ],
   "source": [
    "n=6\n",
    "i=1\n",
    "while i<=n:\n",
    "    print(\"*\"*5)\n",
    "    i=i+1"
   ]
  },
  {
   "cell_type": "code",
   "execution_count": null,
   "id": "3a87b7f9",
   "metadata": {},
   "outputs": [],
   "source": []
  },
  {
   "cell_type": "code",
   "execution_count": null,
   "id": "ad5c0fa4",
   "metadata": {},
   "outputs": [],
   "source": []
  },
  {
   "cell_type": "code",
   "execution_count": null,
   "id": "52648941",
   "metadata": {},
   "outputs": [],
   "source": []
  },
  {
   "cell_type": "code",
   "execution_count": null,
   "id": "0f9cd898",
   "metadata": {},
   "outputs": [],
   "source": []
  },
  {
   "cell_type": "code",
   "execution_count": null,
   "id": "5a6c79e4",
   "metadata": {},
   "outputs": [],
   "source": []
  }
 ],
 "metadata": {
  "kernelspec": {
   "display_name": "Python 3 (ipykernel)",
   "language": "python",
   "name": "python3"
  },
  "language_info": {
   "codemirror_mode": {
    "name": "ipython",
    "version": 3
   },
   "file_extension": ".py",
   "mimetype": "text/x-python",
   "name": "python",
   "nbconvert_exporter": "python",
   "pygments_lexer": "ipython3",
   "version": "3.9.13"
  }
 },
 "nbformat": 4,
 "nbformat_minor": 5
}
