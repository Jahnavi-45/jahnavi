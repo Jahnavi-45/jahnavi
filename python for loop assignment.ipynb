{
 "cells": [
  {
   "cell_type": "code",
   "execution_count": null,
   "id": "d7eee7aa",
   "metadata": {},
   "outputs": [],
   "source": [
    "## pattern 1"
   ]
  },
  {
   "cell_type": "code",
   "execution_count": 1,
   "id": "0c834f99",
   "metadata": {},
   "outputs": [
    {
     "name": "stdout",
     "output_type": "stream",
     "text": [
      "Enter no of rows:6\n",
      "1 \n",
      "1 2 \n",
      "1 2 3 \n",
      "1 2 3 4 \n",
      "1 2 3 4 5 \n",
      "1 2 3 4 5 6 \n"
     ]
    }
   ],
   "source": [
    "n=int(input(\"Enter no of rows:\"))\n",
    "for i in range(1,n+1):\n",
    "    for j in range(1,i+1):\n",
    "        print(j,end=\" \")\n",
    "    print()"
   ]
  },
  {
   "cell_type": "code",
   "execution_count": null,
   "id": "835a2525",
   "metadata": {},
   "outputs": [],
   "source": [
    "## pattern 2"
   ]
  },
  {
   "cell_type": "code",
   "execution_count": 2,
   "id": "bb2a3041",
   "metadata": {},
   "outputs": [
    {
     "name": "stdout",
     "output_type": "stream",
     "text": [
      "Enter no of rows:6\n",
      "A \n",
      "A B \n",
      "A B C \n",
      "A B C D \n",
      "A B C D E \n",
      "A B C D E F \n"
     ]
    }
   ],
   "source": [
    "n=int(input(\"Enter no of rows:\"))\n",
    "a=64\n",
    "for i in range(1,n+1):\n",
    "    for j in range(1,i+1):\n",
    "        print(chr(a+j),end=\" \")\n",
    "    print()"
   ]
  },
  {
   "cell_type": "code",
   "execution_count": null,
   "id": "7240d2f5",
   "metadata": {},
   "outputs": [],
   "source": []
  },
  {
   "cell_type": "code",
   "execution_count": null,
   "id": "808bb758",
   "metadata": {},
   "outputs": [],
   "source": [
    "## pattern 3"
   ]
  },
  {
   "cell_type": "code",
   "execution_count": 3,
   "id": "50833eb2",
   "metadata": {},
   "outputs": [
    {
     "name": "stdout",
     "output_type": "stream",
     "text": [
      "Enter no of rows:6\n",
      "* \n",
      "* * \n",
      "* * * \n",
      "* * * * \n",
      "* * * * * \n",
      "* * * * * * \n"
     ]
    }
   ],
   "source": [
    "n=int(input(\"Enter no of rows:\"))\n",
    "for i in range(1,n+1):\n",
    "    for j in range(1,i+1):\n",
    "        print(\"*\",end=\" \")\n",
    "    print()"
   ]
  },
  {
   "cell_type": "code",
   "execution_count": null,
   "id": "f83125f4",
   "metadata": {},
   "outputs": [],
   "source": []
  },
  {
   "cell_type": "code",
   "execution_count": null,
   "id": "bd38234e",
   "metadata": {},
   "outputs": [],
   "source": [
    "## pattern 4"
   ]
  },
  {
   "cell_type": "code",
   "execution_count": 4,
   "id": "3b85001d",
   "metadata": {},
   "outputs": [
    {
     "name": "stdout",
     "output_type": "stream",
     "text": [
      "Enter no of rows:6\n",
      "1 \n",
      "2 2 \n",
      "3 3 3 \n",
      "4 4 4 4 \n",
      "5 5 5 5 5 \n",
      "6 6 6 6 6 6 \n"
     ]
    }
   ],
   "source": [
    "n=int(input(\"Enter no of rows:\"))\n",
    "for i in range(1,n+1):\n",
    "    for j in range(1,i+1):\n",
    "        print(i,end=\" \")\n",
    "    print()"
   ]
  },
  {
   "cell_type": "code",
   "execution_count": null,
   "id": "0e998665",
   "metadata": {},
   "outputs": [],
   "source": []
  },
  {
   "cell_type": "code",
   "execution_count": null,
   "id": "9e199cf9",
   "metadata": {},
   "outputs": [],
   "source": [
    "## pattern 5"
   ]
  },
  {
   "cell_type": "code",
   "execution_count": 5,
   "id": "51104010",
   "metadata": {},
   "outputs": [
    {
     "name": "stdout",
     "output_type": "stream",
     "text": [
      "Enter no of rows:6\n",
      "A \n",
      "B B \n",
      "C C C \n",
      "D D D D \n",
      "E E E E E \n",
      "F F F F F F \n"
     ]
    }
   ],
   "source": [
    "n=int(input(\"Enter no of rows:\"))\n",
    "a=64\n",
    "for i in range(1,n+1):\n",
    "    for j in range(1,i+1):\n",
    "        print(chr(a+i),end=\" \")\n",
    "    print()"
   ]
  },
  {
   "cell_type": "code",
   "execution_count": null,
   "id": "8db6b97a",
   "metadata": {},
   "outputs": [],
   "source": []
  },
  {
   "cell_type": "code",
   "execution_count": null,
   "id": "1b7a1a5a",
   "metadata": {},
   "outputs": [],
   "source": [
    "## pattern 6"
   ]
  },
  {
   "cell_type": "code",
   "execution_count": 6,
   "id": "8202a92c",
   "metadata": {},
   "outputs": [
    {
     "name": "stdout",
     "output_type": "stream",
     "text": [
      "Enter no of rows:5\n",
      "         * \n",
      "       * * \n",
      "     * * * \n",
      "   * * * * \n",
      " * * * * * \n"
     ]
    }
   ],
   "source": [
    "n=int(input(\"Enter no of rows:\"))\n",
    "for i in range(1,n+1):\n",
    "    print(\" \"*(n-i)*2,end=\" \")\n",
    "    for j in range(1,i+1):\n",
    "        print(\"*\",end=\" \")\n",
    "    print()"
   ]
  },
  {
   "cell_type": "code",
   "execution_count": null,
   "id": "fab5e229",
   "metadata": {},
   "outputs": [],
   "source": []
  },
  {
   "cell_type": "code",
   "execution_count": null,
   "id": "2a00a16d",
   "metadata": {},
   "outputs": [],
   "source": [
    "## pattern 7"
   ]
  },
  {
   "cell_type": "code",
   "execution_count": 7,
   "id": "126a9abb",
   "metadata": {},
   "outputs": [
    {
     "name": "stdout",
     "output_type": "stream",
     "text": [
      "Enter no of rows:6\n",
      "      1 \n",
      "     1 2 \n",
      "    1 2 3 \n",
      "   1 2 3 4 \n",
      "  1 2 3 4 5 \n",
      " 1 2 3 4 5 6 \n"
     ]
    }
   ],
   "source": [
    "n=int(input(\"Enter no of rows:\"))\n",
    "for i in range(1,n+1):\n",
    "    print(\" \"*(n-i),end=\" \")\n",
    "    for j in range(1,i+1):\n",
    "        print(j,end=\" \")\n",
    "    print()"
   ]
  },
  {
   "cell_type": "code",
   "execution_count": null,
   "id": "1ebdad35",
   "metadata": {},
   "outputs": [],
   "source": []
  },
  {
   "cell_type": "code",
   "execution_count": null,
   "id": "09df1281",
   "metadata": {},
   "outputs": [],
   "source": [
    "## pattern 8"
   ]
  },
  {
   "cell_type": "code",
   "execution_count": 9,
   "id": "f66a64ee",
   "metadata": {},
   "outputs": [
    {
     "name": "stdout",
     "output_type": "stream",
     "text": [
      "Enter no of rows:5\n",
      "     5 \n",
      "    4 5 \n",
      "   3 4 5 \n",
      "  2 3 4 5 \n",
      " 1 2 3 4 5 \n"
     ]
    }
   ],
   "source": [
    "n=int(input(\"Enter no of rows:\"))\n",
    "for i in range(1,n+1):\n",
    "    print(\" \"*(n-i),end=\" \")\n",
    "    for j in range((n-i)+1,n+1):\n",
    "        print(j,end=\" \")\n",
    "    print()"
   ]
  },
  {
   "cell_type": "code",
   "execution_count": null,
   "id": "197ee812",
   "metadata": {},
   "outputs": [],
   "source": []
  },
  {
   "cell_type": "code",
   "execution_count": null,
   "id": "abac7a8c",
   "metadata": {},
   "outputs": [],
   "source": [
    "## pattern 9"
   ]
  },
  {
   "cell_type": "code",
   "execution_count": 10,
   "id": "aebec200",
   "metadata": {},
   "outputs": [
    {
     "name": "stdout",
     "output_type": "stream",
     "text": [
      "Enter no of rows:6\n",
      "      A \n",
      "     A B \n",
      "    A B C \n",
      "   A B C D \n",
      "  A B C D E \n",
      " A B C D E F \n"
     ]
    }
   ],
   "source": [
    "n=int(input(\"Enter no of rows:\"))\n",
    "a=64\n",
    "for i in range(1,n+1):\n",
    "    print(\" \"*(n-i),end=\" \")\n",
    "    for j in range(1,i+1):\n",
    "        print(chr(a+j),end=\" \")\n",
    "    print()"
   ]
  },
  {
   "cell_type": "code",
   "execution_count": null,
   "id": "2c29ff35",
   "metadata": {},
   "outputs": [],
   "source": []
  },
  {
   "cell_type": "code",
   "execution_count": null,
   "id": "6bcac998",
   "metadata": {},
   "outputs": [],
   "source": [
    "## pattern 10"
   ]
  },
  {
   "cell_type": "code",
   "execution_count": 11,
   "id": "b295ac1a",
   "metadata": {},
   "outputs": [
    {
     "name": "stdout",
     "output_type": "stream",
     "text": [
      "Enter no of rows:5\n",
      "     E \n",
      "    D E \n",
      "   C D E \n",
      "  B C D E \n",
      " A B C D E \n"
     ]
    }
   ],
   "source": [
    "n=int(input(\"Enter no of rows:\"))\n",
    "a=65\n",
    "for i in range(1,n+1):\n",
    "    print(\" \"*(n-i),end=\" \")\n",
    "    for j in range((n-i),n):\n",
    "        print(chr(a+j),end=\" \")\n",
    "    print()"
   ]
  },
  {
   "cell_type": "code",
   "execution_count": null,
   "id": "921cfb53",
   "metadata": {},
   "outputs": [],
   "source": []
  },
  {
   "cell_type": "code",
   "execution_count": null,
   "id": "0b664c8e",
   "metadata": {},
   "outputs": [],
   "source": [
    "## pattern 11"
   ]
  },
  {
   "cell_type": "code",
   "execution_count": 12,
   "id": "002af6af",
   "metadata": {},
   "outputs": [
    {
     "name": "stdout",
     "output_type": "stream",
     "text": [
      "Enter number:5\n",
      "     *      \n",
      "    ***     \n",
      "   *****    \n",
      "  *******   \n",
      " *********  \n"
     ]
    }
   ],
   "source": [
    "n=int(input(\"Enter number:\"))\n",
    "i=1\n",
    "a=1\n",
    "for i in range(1,n+1):\n",
    "    print((\"*\"*(a)).center(12))\n",
    "    a=a+2\n",
    "   "
   ]
  },
  {
   "cell_type": "code",
   "execution_count": null,
   "id": "0addc26f",
   "metadata": {},
   "outputs": [],
   "source": []
  },
  {
   "cell_type": "code",
   "execution_count": null,
   "id": "fa8e2891",
   "metadata": {},
   "outputs": [],
   "source": [
    "## pattern 12"
   ]
  },
  {
   "cell_type": "code",
   "execution_count": 13,
   "id": "f3e18ea7",
   "metadata": {},
   "outputs": [
    {
     "name": "stdout",
     "output_type": "stream",
     "text": [
      "Enter no of rows:6\n",
      "      1 \n",
      "     2 2 \n",
      "    3 3 3 \n",
      "   4 4 4 4 \n",
      "  5 5 5 5 5 \n",
      " 6 6 6 6 6 6 \n"
     ]
    }
   ],
   "source": [
    "n=int(input(\"Enter no of rows:\"))\n",
    "for i in range(1,n+1):\n",
    "    print(\" \"*(n-i),end=\" \")\n",
    "    for j in range(1,i+1):\n",
    "        print(i,end=\" \")\n",
    "    print()"
   ]
  },
  {
   "cell_type": "code",
   "execution_count": null,
   "id": "d89c0468",
   "metadata": {},
   "outputs": [],
   "source": []
  },
  {
   "cell_type": "code",
   "execution_count": null,
   "id": "1858e0c1",
   "metadata": {},
   "outputs": [],
   "source": [
    "## pattern 13"
   ]
  },
  {
   "cell_type": "code",
   "execution_count": 14,
   "id": "d503a2cd",
   "metadata": {},
   "outputs": [
    {
     "name": "stdout",
     "output_type": "stream",
     "text": [
      "Enter no of rows:6\n",
      "      A \n",
      "     B B \n",
      "    C C C \n",
      "   D D D D \n",
      "  E E E E E \n",
      " F F F F F F \n"
     ]
    }
   ],
   "source": [
    "n=int(input(\"Enter no of rows:\"))\n",
    "a=64\n",
    "for i in range(1,n+1):\n",
    "    print(\" \"*(n-i),end=\" \")\n",
    "    for j in range(1,i+1):\n",
    "        print(chr(a+i),end=\" \")\n",
    "    print()"
   ]
  },
  {
   "cell_type": "code",
   "execution_count": null,
   "id": "8680d2d4",
   "metadata": {},
   "outputs": [],
   "source": []
  },
  {
   "cell_type": "code",
   "execution_count": null,
   "id": "e2aaba9d",
   "metadata": {},
   "outputs": [],
   "source": [
    "## pattern 14"
   ]
  },
  {
   "cell_type": "code",
   "execution_count": 16,
   "id": "4724b5cf",
   "metadata": {},
   "outputs": [
    {
     "name": "stdout",
     "output_type": "stream",
     "text": [
      "Enter no of rows:6\n",
      "1 2 3 4 5 6 \n",
      "1 2 3 4 5 \n",
      "1 2 3 4 \n",
      "1 2 3 \n",
      "1 2 \n",
      "1 \n"
     ]
    }
   ],
   "source": [
    "n=int(input(\"Enter no of rows:\"))\n",
    "for i in range(n,0,-1):\n",
    "    for j in range(1,i+1):\n",
    "        print(j,end=\" \")\n",
    "    print()"
   ]
  },
  {
   "cell_type": "code",
   "execution_count": null,
   "id": "48ae88b9",
   "metadata": {},
   "outputs": [],
   "source": []
  },
  {
   "cell_type": "code",
   "execution_count": null,
   "id": "d80c1013",
   "metadata": {},
   "outputs": [],
   "source": [
    "## pattern 15"
   ]
  },
  {
   "cell_type": "code",
   "execution_count": 17,
   "id": "d70a6990",
   "metadata": {},
   "outputs": [
    {
     "name": "stdout",
     "output_type": "stream",
     "text": [
      "Enter no of rows:5\n",
      "5 4 3 2 1 \n",
      "5 4 3 2 \n",
      "5 4 3 \n",
      "5 4 \n",
      "5 \n"
     ]
    }
   ],
   "source": [
    "n=int(input(\"Enter no of rows:\"))\n",
    "for i in range(n,0,-1):\n",
    "    for j in range(n,n-i,-1):\n",
    "        print(j,end=\" \")\n",
    "    print()"
   ]
  },
  {
   "cell_type": "code",
   "execution_count": null,
   "id": "528d44b1",
   "metadata": {},
   "outputs": [],
   "source": []
  },
  {
   "cell_type": "code",
   "execution_count": null,
   "id": "c1fea86a",
   "metadata": {},
   "outputs": [],
   "source": [
    "## pattern 16"
   ]
  },
  {
   "cell_type": "code",
   "execution_count": 18,
   "id": "5b0e0b03",
   "metadata": {},
   "outputs": [
    {
     "name": "stdout",
     "output_type": "stream",
     "text": [
      "Enter no of rows:5\n",
      "5 \n",
      "5 4 \n",
      "5 4 3 \n",
      "5 4 3 2 \n",
      "5 4 3 2 1 \n"
     ]
    }
   ],
   "source": [
    "n=int(input(\"Enter no of rows:\"))\n",
    "for i in range(1,n+1):\n",
    "    for j in range(n,n-i,-1):\n",
    "        print(j,end=\" \")\n",
    "    print()"
   ]
  },
  {
   "cell_type": "code",
   "execution_count": null,
   "id": "cba2b2ce",
   "metadata": {},
   "outputs": [],
   "source": []
  },
  {
   "cell_type": "code",
   "execution_count": null,
   "id": "e1482b96",
   "metadata": {},
   "outputs": [],
   "source": [
    "## pattern 17"
   ]
  },
  {
   "cell_type": "code",
   "execution_count": 19,
   "id": "fa6eb625",
   "metadata": {},
   "outputs": [
    {
     "name": "stdout",
     "output_type": "stream",
     "text": [
      "Enter no of rows:5\n",
      "1 \n",
      "2 3 \n",
      "4 5 6 \n",
      "7 8 9 10 \n",
      "11 12 13 14 15 \n"
     ]
    }
   ],
   "source": [
    "n=int(input(\"Enter no of rows:\"))\n",
    "a=1\n",
    "for i in range(1,n+1):\n",
    "    for j in range(1,i+1):\n",
    "        print(a,end=\" \")\n",
    "        a=a+1\n",
    "    print()"
   ]
  },
  {
   "cell_type": "code",
   "execution_count": null,
   "id": "072c7bbb",
   "metadata": {},
   "outputs": [],
   "source": []
  },
  {
   "cell_type": "code",
   "execution_count": null,
   "id": "1166cf61",
   "metadata": {},
   "outputs": [],
   "source": [
    "## pattern 18"
   ]
  },
  {
   "cell_type": "code",
   "execution_count": 20,
   "id": "920df851",
   "metadata": {},
   "outputs": [
    {
     "name": "stdout",
     "output_type": "stream",
     "text": [
      "Enter no of rows:5\n",
      "A B C D E \n",
      "A B C D \n",
      "A B C \n",
      "A B \n",
      "A \n"
     ]
    }
   ],
   "source": [
    "n=int(input(\"Enter no of rows:\"))\n",
    "a=64\n",
    "for i in range(n,0,-1):\n",
    "    for j in range(1,i+1):\n",
    "        print(chr(a+j),end=\" \")\n",
    "    print()"
   ]
  },
  {
   "cell_type": "code",
   "execution_count": null,
   "id": "c8537a1f",
   "metadata": {},
   "outputs": [],
   "source": []
  },
  {
   "cell_type": "code",
   "execution_count": null,
   "id": "29ad0362",
   "metadata": {},
   "outputs": [],
   "source": [
    "## pattern 19"
   ]
  },
  {
   "cell_type": "code",
   "execution_count": 22,
   "id": "17f978c6",
   "metadata": {},
   "outputs": [
    {
     "name": "stdout",
     "output_type": "stream",
     "text": [
      "Enter no of rows:6\n",
      "******\n",
      "*****\n",
      "****\n",
      "***\n",
      "**\n",
      "*\n"
     ]
    }
   ],
   "source": [
    "n=int(input(\"Enter no of rows:\"))\n",
    "for i in range(n,0,-1):\n",
    "    print(\"*\"*i)"
   ]
  },
  {
   "cell_type": "code",
   "execution_count": null,
   "id": "d7741920",
   "metadata": {},
   "outputs": [],
   "source": []
  },
  {
   "cell_type": "code",
   "execution_count": null,
   "id": "b47ca390",
   "metadata": {},
   "outputs": [],
   "source": [
    "## pattern 20"
   ]
  },
  {
   "cell_type": "code",
   "execution_count": 23,
   "id": "f87b69df",
   "metadata": {},
   "outputs": [
    {
     "name": "stdout",
     "output_type": "stream",
     "text": [
      "Enter no of rows:6\n",
      "******\n",
      " *****\n",
      "  ****\n",
      "   ***\n",
      "    **\n",
      "     *\n"
     ]
    }
   ],
   "source": [
    "n=int(input(\"Enter no of rows:\"))\n",
    "for i in range(n,0,-1):\n",
    "    print(\" \"*(n-i)+\"*\"*i)"
   ]
  },
  {
   "cell_type": "code",
   "execution_count": null,
   "id": "a198c8a3",
   "metadata": {},
   "outputs": [],
   "source": []
  },
  {
   "cell_type": "code",
   "execution_count": null,
   "id": "d8c588f8",
   "metadata": {},
   "outputs": [],
   "source": [
    "## pattern 21"
   ]
  },
  {
   "cell_type": "code",
   "execution_count": 24,
   "id": "b4005def",
   "metadata": {},
   "outputs": [
    {
     "name": "stdout",
     "output_type": "stream",
     "text": [
      "*\n",
      "**\n",
      "***\n",
      "****\n",
      "*****\n",
      "****\n",
      "***\n",
      "**\n",
      "*\n"
     ]
    }
   ],
   "source": [
    "for i in range(1,7):\n",
    "    if(i<6):\n",
    "        print(i*\"*\")\n",
    "    if(i==6):\n",
    "        for i in range(4,0,-1):\n",
    "            print(\"*\"*i)"
   ]
  },
  {
   "cell_type": "code",
   "execution_count": null,
   "id": "e119bb15",
   "metadata": {},
   "outputs": [],
   "source": []
  },
  {
   "cell_type": "code",
   "execution_count": null,
   "id": "1be0f968",
   "metadata": {},
   "outputs": [],
   "source": [
    "## pattern 22"
   ]
  },
  {
   "cell_type": "code",
   "execution_count": 25,
   "id": "3be7ca9a",
   "metadata": {},
   "outputs": [
    {
     "name": "stdout",
     "output_type": "stream",
     "text": [
      "******\n",
      "*****\n",
      "****\n",
      "***\n",
      "**\n",
      "*\n",
      "**\n",
      "***\n",
      "****\n",
      "*****\n",
      "******\n"
     ]
    }
   ],
   "source": [
    "for i in range(6,0,-1):\n",
    "    print(\"*\"*i)\n",
    "for i in range(2,7):\n",
    "    print(\"*\"*i)"
   ]
  },
  {
   "cell_type": "code",
   "execution_count": null,
   "id": "e4cc8837",
   "metadata": {},
   "outputs": [],
   "source": []
  },
  {
   "cell_type": "code",
   "execution_count": null,
   "id": "5674a14a",
   "metadata": {},
   "outputs": [],
   "source": [
    "## pattern 23"
   ]
  },
  {
   "cell_type": "code",
   "execution_count": 26,
   "id": "27e88c8b",
   "metadata": {},
   "outputs": [
    {
     "name": "stdout",
     "output_type": "stream",
     "text": [
      "     *\n",
      "    **\n",
      "   ***\n",
      "  ****\n",
      " *****\n",
      "******\n",
      " *****\n",
      "  ****\n",
      "   ***\n",
      "    **\n",
      "     *\n"
     ]
    }
   ],
   "source": [
    "for i in range(1,6):\n",
    "    print(\" \"*(6-i)+\"*\"*(i))\n",
    "for i in range(6,0,-1):\n",
    "    print(\" \"*(6-i)+\"*\"*i)"
   ]
  },
  {
   "cell_type": "code",
   "execution_count": null,
   "id": "45eeb408",
   "metadata": {},
   "outputs": [],
   "source": []
  },
  {
   "cell_type": "code",
   "execution_count": null,
   "id": "6597c55b",
   "metadata": {},
   "outputs": [],
   "source": [
    "## pattern 24"
   ]
  },
  {
   "cell_type": "code",
   "execution_count": 27,
   "id": "7e00dc21",
   "metadata": {},
   "outputs": [
    {
     "name": "stdout",
     "output_type": "stream",
     "text": [
      "******\n",
      " *****\n",
      "  ****\n",
      "   ***\n",
      "    **\n",
      "     *\n",
      "    **\n",
      "   ***\n",
      "  ****\n",
      " *****\n",
      "******\n"
     ]
    }
   ],
   "source": [
    "for i in range(6,0,-1):\n",
    "    print(\" \"*(6-i)+\"*\"*i)\n",
    "for i in range(2,7):\n",
    "    print(\" \"*(6-i)+\"*\"*(i))"
   ]
  },
  {
   "cell_type": "code",
   "execution_count": null,
   "id": "3001e64d",
   "metadata": {},
   "outputs": [],
   "source": []
  },
  {
   "cell_type": "code",
   "execution_count": null,
   "id": "b53eb7aa",
   "metadata": {},
   "outputs": [],
   "source": [
    "## pattern 25"
   ]
  },
  {
   "cell_type": "code",
   "execution_count": 28,
   "id": "eec38330",
   "metadata": {},
   "outputs": [
    {
     "name": "stdout",
     "output_type": "stream",
     "text": [
      "********* \n",
      " *******  \n",
      "  *****   \n",
      "   ***    \n",
      "    *     \n",
      "   ***    \n",
      "  *****   \n",
      " *******  \n",
      "********* \n"
     ]
    }
   ],
   "source": [
    "for i in range(9,0,-2):\n",
    "    m=\"*\"*i\n",
    "    print(m.center(10,\" \"))\n",
    "for i in range(3,10,2):\n",
    "    m=\"*\"*i\n",
    "    print(m.center(10,\" \"))"
   ]
  },
  {
   "cell_type": "code",
   "execution_count": null,
   "id": "1022f2e4",
   "metadata": {},
   "outputs": [],
   "source": []
  },
  {
   "cell_type": "code",
   "execution_count": null,
   "id": "9120104c",
   "metadata": {},
   "outputs": [],
   "source": [
    "## pattern 26"
   ]
  },
  {
   "cell_type": "code",
   "execution_count": 29,
   "id": "ab45f7c0",
   "metadata": {},
   "outputs": [
    {
     "name": "stdout",
     "output_type": "stream",
     "text": [
      "*          *\n",
      "**        **\n",
      "***      ***\n",
      "****    ****\n",
      "*****  *****\n",
      "************\n"
     ]
    }
   ],
   "source": [
    "a=6\n",
    "for i in range(1,a+1):\n",
    "    print(\"*\"*(i),\" \"*((a-i)*2),\"*\"*(i),sep=\"\")"
   ]
  },
  {
   "cell_type": "code",
   "execution_count": null,
   "id": "4121fbcf",
   "metadata": {},
   "outputs": [],
   "source": []
  },
  {
   "cell_type": "code",
   "execution_count": null,
   "id": "45cc6eb7",
   "metadata": {},
   "outputs": [],
   "source": [
    "## pattern 27"
   ]
  },
  {
   "cell_type": "code",
   "execution_count": 30,
   "id": "2b817eec",
   "metadata": {},
   "outputs": [
    {
     "name": "stdout",
     "output_type": "stream",
     "text": [
      "Enter no of rows: 6\n",
      "************\n",
      "*****  *****\n",
      "****    ****\n",
      "***      ***\n",
      "**        **\n",
      "*          *\n"
     ]
    }
   ],
   "source": [
    "a=int(input(\"Enter no of rows: \"))\n",
    "for i in range(0,a):\n",
    "    print(\"*\"*(a-i),\" \"*(i)*2,\"*\"*(a-i),sep=\"\")"
   ]
  },
  {
   "cell_type": "code",
   "execution_count": null,
   "id": "71463a20",
   "metadata": {},
   "outputs": [],
   "source": []
  },
  {
   "cell_type": "code",
   "execution_count": null,
   "id": "7f76b124",
   "metadata": {},
   "outputs": [],
   "source": [
    "## pattern 28"
   ]
  },
  {
   "cell_type": "code",
   "execution_count": 32,
   "id": "71176b53",
   "metadata": {},
   "outputs": [
    {
     "name": "stdout",
     "output_type": "stream",
     "text": [
      "Enter no of rows: 12\n",
      "*          *\n",
      "**        **\n",
      "***      ***\n",
      "****    ****\n",
      "*****  *****\n",
      "************\n",
      "*****  *****\n",
      "****    ****\n",
      "***      ***\n",
      "**        **\n",
      "*          *\n"
     ]
    }
   ],
   "source": [
    "n=int(input(\"Enter no of rows: \"))\n",
    "a=(n//2)\n",
    "for i in range(1,a):\n",
    "    print(\"*\"*(i),\" \"*((a-i)*2),\"*\"*(i),sep=\"\")\n",
    "for i in range(0,a):\n",
    "    print(\"*\"*(a-i),\" \"*(i)*2,\"*\"*(a-i),sep=\"\")"
   ]
  },
  {
   "cell_type": "code",
   "execution_count": null,
   "id": "5905ef4e",
   "metadata": {},
   "outputs": [],
   "source": []
  },
  {
   "cell_type": "code",
   "execution_count": null,
   "id": "ae7fc34e",
   "metadata": {},
   "outputs": [],
   "source": [
    "## pattern 29"
   ]
  },
  {
   "cell_type": "code",
   "execution_count": 33,
   "id": "997f0c7f",
   "metadata": {},
   "outputs": [
    {
     "name": "stdout",
     "output_type": "stream",
     "text": [
      "Enter no of rows: 12\n",
      "************\n",
      "*****  *****\n",
      "****    ****\n",
      "***      ***\n",
      "**        **\n",
      "*          *\n",
      "**        **\n",
      "***      ***\n",
      "****    ****\n",
      "*****  *****\n",
      "************\n"
     ]
    }
   ],
   "source": [
    "n=int(input(\"Enter no of rows: \"))\n",
    "a=(n//2)\n",
    "print(\"*\"*n)\n",
    "for i in range(1,a):\n",
    "    print(\"*\"*(a-i),\" \"*(i*2),\"*\"*(a-i),sep=\"\")\n",
    "for i in range(2,a):\n",
    "    print(\"*\"*(i),\" \"*((a-i)*2),\"*\"*(i),sep=\"\")\n",
    "print(\"*\"*n)"
   ]
  },
  {
   "cell_type": "code",
   "execution_count": null,
   "id": "c16159fe",
   "metadata": {},
   "outputs": [],
   "source": []
  },
  {
   "cell_type": "code",
   "execution_count": null,
   "id": "6c81bc64",
   "metadata": {},
   "outputs": [],
   "source": [
    "## pattern 30"
   ]
  },
  {
   "cell_type": "code",
   "execution_count": 34,
   "id": "ab8f867e",
   "metadata": {},
   "outputs": [
    {
     "name": "stdout",
     "output_type": "stream",
     "text": [
      "Enter no of rows:6\n",
      "*\n",
      "**\n",
      "* * \n",
      "*  *  \n",
      "*   *   \n",
      "******\n"
     ]
    }
   ],
   "source": [
    "n=int(input(\"Enter no of rows:\"))\n",
    "print(\"*\")\n",
    "for i in range(2,n):\n",
    "    for j in range(2):\n",
    "        print(\"*\",end=\"\")\n",
    "        print(\" \"*(i-2),end=\"\")\n",
    "    print()\n",
    "print(\"*\"*n)"
   ]
  },
  {
   "cell_type": "code",
   "execution_count": null,
   "id": "ce444f42",
   "metadata": {},
   "outputs": [],
   "source": []
  },
  {
   "cell_type": "code",
   "execution_count": null,
   "id": "30df57b5",
   "metadata": {},
   "outputs": [],
   "source": [
    "## pattern 31"
   ]
  },
  {
   "cell_type": "code",
   "execution_count": 35,
   "id": "05acc48a",
   "metadata": {},
   "outputs": [
    {
     "name": "stdout",
     "output_type": "stream",
     "text": [
      "Enter no of rows:6\n",
      "******\n",
      "*   *   \n",
      "*  *  \n",
      "* * \n",
      "**\n",
      "*\n"
     ]
    }
   ],
   "source": [
    "n=int(input(\"Enter no of rows:\"))\n",
    "print(\"*\"*n)\n",
    "for i in range((n-1),1,-1):\n",
    "    for j in range(2):\n",
    "        print(\"*\",end=\"\")\n",
    "        print(\" \"*(i-2),end=\"\")\n",
    "    print()\n",
    "print(\"*\")"
   ]
  },
  {
   "cell_type": "code",
   "execution_count": null,
   "id": "ea7ec756",
   "metadata": {},
   "outputs": [],
   "source": []
  },
  {
   "cell_type": "code",
   "execution_count": null,
   "id": "a066bb6b",
   "metadata": {},
   "outputs": [],
   "source": [
    "## pattern 32"
   ]
  },
  {
   "cell_type": "code",
   "execution_count": 36,
   "id": "5a6db369",
   "metadata": {},
   "outputs": [
    {
     "name": "stdout",
     "output_type": "stream",
     "text": [
      "Enter no of rows:6\n",
      "     *\n",
      "    **\n",
      "   * *\n",
      "  *  *\n",
      " *   *\n",
      "******\n"
     ]
    }
   ],
   "source": [
    "n=int(input(\"Enter no of rows:\"))\n",
    "print(\"*\".rjust(n))\n",
    "a=\" \"\n",
    "for i in range(2,n):\n",
    "    a=\"*\"+\" \"*(i-2)+\"*\"\n",
    "    print(a.rjust(n))\n",
    "print(\"*\"*n)"
   ]
  },
  {
   "cell_type": "code",
   "execution_count": null,
   "id": "3b582853",
   "metadata": {},
   "outputs": [],
   "source": []
  },
  {
   "cell_type": "code",
   "execution_count": null,
   "id": "a6db0d36",
   "metadata": {},
   "outputs": [],
   "source": [
    "## pattern 33"
   ]
  },
  {
   "cell_type": "code",
   "execution_count": 37,
   "id": "4715c866",
   "metadata": {},
   "outputs": [
    {
     "name": "stdout",
     "output_type": "stream",
     "text": [
      "Enter no of rows:12\n",
      "******\n",
      "*   *   \n",
      "*  *  \n",
      "* * \n",
      "**\n",
      "*\n",
      "**\n",
      "* * \n",
      "*  *  \n",
      "*   *   \n",
      "******\n"
     ]
    }
   ],
   "source": [
    "a=int(input(\"Enter no of rows:\"))\n",
    "n=a//2\n",
    "print(\"*\"*n)\n",
    "for i in range((n-1),1,-1):\n",
    "    for j in range(2):\n",
    "        print(\"*\",end=\"\")\n",
    "        print(\" \"*(i-2),end=\"\")\n",
    "    print()\n",
    "print(\"*\")\n",
    "for i in range(2,n):\n",
    "    for j in range(2):\n",
    "        print(\"*\",end=\"\")\n",
    "        print(\" \"*(i-2),end=\"\")\n",
    "    print()\n",
    "print(\"*\"*n)"
   ]
  },
  {
   "cell_type": "code",
   "execution_count": null,
   "id": "8a261ba5",
   "metadata": {},
   "outputs": [],
   "source": []
  },
  {
   "cell_type": "code",
   "execution_count": null,
   "id": "608de1b6",
   "metadata": {},
   "outputs": [],
   "source": [
    "## pattern 34"
   ]
  },
  {
   "cell_type": "code",
   "execution_count": 2,
   "id": "11cb7e55",
   "metadata": {},
   "outputs": [
    {
     "name": "stdout",
     "output_type": "stream",
     "text": [
      "Enter no of rows:12\n",
      "     *      \n",
      "    **\n",
      "   * *\n",
      "  *  *\n",
      " *   *\n",
      "*    *\n",
      " *   *\n",
      "  *  *\n",
      "   * *\n",
      "    **\n",
      "     *      \n"
     ]
    }
   ],
   "source": [
    "a=int(input(\"Enter no of rows:\"))\n",
    "n=a//2\n",
    "print(\"*\".center(n*2))\n",
    "a=\" \"\n",
    "for i in range(2,n):\n",
    "    b=\"*\"+\" \"*(i-2)+\"*\"\n",
    "    print(b.rjust(n))\n",
    "for i in range((n),1,-1):\n",
    "    b=\"*\"+\" \"*(i-2)+\"*\"\n",
    "    print(b.rjust(n))\n",
    "print(\"*\".center(n*2))"
   ]
  },
  {
   "cell_type": "code",
   "execution_count": null,
   "id": "8c5d9168",
   "metadata": {},
   "outputs": [],
   "source": []
  },
  {
   "cell_type": "code",
   "execution_count": null,
   "id": "9396d8d5",
   "metadata": {},
   "outputs": [],
   "source": [
    "## pattern 35"
   ]
  },
  {
   "cell_type": "code",
   "execution_count": 38,
   "id": "0b059754",
   "metadata": {},
   "outputs": [
    {
     "name": "stdout",
     "output_type": "stream",
     "text": [
      "Enter no of rows:12\n",
      "******\n",
      " *   *\n",
      "  *  *\n",
      "   * *\n",
      "    **\n",
      "     *\n",
      "    **\n",
      "   * *\n",
      "  *  *\n",
      " *   *\n",
      "******\n"
     ]
    }
   ],
   "source": [
    "a=int(input(\"Enter no of rows:\"))\n",
    "n=a//2\n",
    "print((\"*\"*n).rjust(n))\n",
    "a=\" \"\n",
    "for i in range((n-1),1,-1):\n",
    "    a=\"*\"+\" \"*(i-2)+\"*\"\n",
    "    print(a.rjust(n))\n",
    "print(\"*\".rjust(n))\n",
    "a=\" \"\n",
    "for i in range(2,n):\n",
    "    a=\"*\"+\" \"*(i-2)+\"*\"\n",
    "    print(a.rjust(n))\n",
    "print(\"*\"*n)"
   ]
  },
  {
   "cell_type": "code",
   "execution_count": null,
   "id": "f08a00f7",
   "metadata": {},
   "outputs": [],
   "source": []
  },
  {
   "cell_type": "code",
   "execution_count": null,
   "id": "5c398e1d",
   "metadata": {},
   "outputs": [],
   "source": [
    "## pattern 36"
   ]
  },
  {
   "cell_type": "code",
   "execution_count": 1,
   "id": "bb5d6d3a",
   "metadata": {},
   "outputs": [
    {
     "name": "stdout",
     "output_type": "stream",
     "text": [
      "    *     \n",
      "   * *\n",
      "  *   *\n",
      " *     *\n",
      "*********\n"
     ]
    }
   ],
   "source": [
    "print(\"*\".center(10))\n",
    "n=(9//2)\n",
    "a=1\n",
    "for i in range(1,n):\n",
    "    print(\" \"*(n-i),\"*\",\" \"*a,\"*\",sep=\"\")\n",
    "    a=a+2\n",
    "print(\"*\"*9)"
   ]
  },
  {
   "cell_type": "code",
   "execution_count": null,
   "id": "f97115f5",
   "metadata": {},
   "outputs": [],
   "source": []
  },
  {
   "cell_type": "code",
   "execution_count": null,
   "id": "303f9528",
   "metadata": {},
   "outputs": [],
   "source": [
    "## pattern 37"
   ]
  },
  {
   "cell_type": "code",
   "execution_count": 2,
   "id": "be325f08",
   "metadata": {},
   "outputs": [
    {
     "name": "stdout",
     "output_type": "stream",
     "text": [
      "*********\n",
      " *     *\n",
      "  *   *\n",
      "   * *\n",
      "    *     \n"
     ]
    }
   ],
   "source": [
    "print(\"*\"*9)\n",
    "n=(9//2)+1\n",
    "for i in range(1,n-1):\n",
    "    print(\" \"*(i),\"*\",\" \"*n,\"*\",sep=\"\")\n",
    "    n=n-2\n",
    "print(\"*\".center(10))"
   ]
  },
  {
   "cell_type": "code",
   "execution_count": null,
   "id": "757d73fc",
   "metadata": {},
   "outputs": [],
   "source": []
  },
  {
   "cell_type": "code",
   "execution_count": null,
   "id": "13afb200",
   "metadata": {},
   "outputs": [],
   "source": [
    "## pattern 38"
   ]
  },
  {
   "cell_type": "code",
   "execution_count": 41,
   "id": "d7129fd1",
   "metadata": {},
   "outputs": [
    {
     "name": "stdout",
     "output_type": "stream",
     "text": [
      "enter no of rows:9\n",
      "         *          \n",
      "        * *\n",
      "       *   *\n",
      "      *     *\n",
      "     *       *\n",
      "      *     *\n",
      "       *   *\n",
      "        * *\n",
      "         *          \n"
     ]
    }
   ],
   "source": [
    "n=int(input(\"enter no of rows:\"))\n",
    "print(\"*\".center((n*2)+2))\n",
    "i=1\n",
    "a=1\n",
    "for i in range(1,n-1):\n",
    "    if i<(n//2):\n",
    "        print(\" \"*(n-i),\"*\",\" \"*a,\"*\",sep=\"\")\n",
    "        a=a+2\n",
    "    else:\n",
    "        print(\" \"*(i+1),\"*\",\" \"*a,\"*\",sep=\"\")\n",
    "        a=a-2\n",
    "print(\"*\".center((n*2)+2))"
   ]
  },
  {
   "cell_type": "code",
   "execution_count": null,
   "id": "c2383540",
   "metadata": {},
   "outputs": [],
   "source": []
  },
  {
   "cell_type": "code",
   "execution_count": null,
   "id": "4d68c3f9",
   "metadata": {},
   "outputs": [],
   "source": [
    "## pattern 39"
   ]
  },
  {
   "cell_type": "code",
   "execution_count": 42,
   "id": "f5fd6fab",
   "metadata": {},
   "outputs": [
    {
     "name": "stdout",
     "output_type": "stream",
     "text": [
      "enter no of rows:9\n",
      "*********\n",
      " *     *\n",
      "  *   *\n",
      "   * *\n",
      "    *    \n",
      "   * *\n",
      "  *   *\n",
      " *     *\n",
      "*********\n"
     ]
    }
   ],
   "source": [
    "n=int(input(\"enter no of rows:\"))\n",
    "print(\"*\"*n)\n",
    "i=2\n",
    "a=1\n",
    "for i in range(2,n):\n",
    "    if i<(n//2)+1:\n",
    "        print(\" \"*(i-1),\"*\",\" \"*(n-(i*2)),\"*\",sep=\"\")\n",
    "    elif i==(n//2)+1:\n",
    "        print(\"*\".center(9))\n",
    "    else:\n",
    "        print(\" \"*(n-i),\"*\",\" \"*a,\"*\",sep=\"\")\n",
    "        a=a+2\n",
    "print(\"*\"*n)"
   ]
  },
  {
   "cell_type": "code",
   "execution_count": null,
   "id": "1e5e42e4",
   "metadata": {},
   "outputs": [],
   "source": []
  },
  {
   "cell_type": "code",
   "execution_count": null,
   "id": "c8dde4be",
   "metadata": {},
   "outputs": [],
   "source": [
    "## pattern 40"
   ]
  },
  {
   "cell_type": "code",
   "execution_count": 43,
   "id": "bd81a9e4",
   "metadata": {},
   "outputs": [
    {
     "name": "stdout",
     "output_type": "stream",
     "text": [
      "*****\n",
      "*****\n",
      "*****\n",
      "*****\n",
      "*****\n",
      "*****\n"
     ]
    }
   ],
   "source": [
    "for i in range(6):\n",
    "    print(\"*\"*5)"
   ]
  },
  {
   "cell_type": "code",
   "execution_count": null,
   "id": "b737be14",
   "metadata": {},
   "outputs": [],
   "source": []
  },
  {
   "cell_type": "code",
   "execution_count": null,
   "id": "686302ad",
   "metadata": {},
   "outputs": [],
   "source": []
  },
  {
   "cell_type": "code",
   "execution_count": null,
   "id": "41e452c7",
   "metadata": {},
   "outputs": [],
   "source": []
  },
  {
   "cell_type": "code",
   "execution_count": null,
   "id": "fc9d56ae",
   "metadata": {},
   "outputs": [],
   "source": []
  },
  {
   "cell_type": "code",
   "execution_count": null,
   "id": "eddda298",
   "metadata": {},
   "outputs": [],
   "source": []
  }
 ],
 "metadata": {
  "kernelspec": {
   "display_name": "Python 3 (ipykernel)",
   "language": "python",
   "name": "python3"
  },
  "language_info": {
   "codemirror_mode": {
    "name": "ipython",
    "version": 3
   },
   "file_extension": ".py",
   "mimetype": "text/x-python",
   "name": "python",
   "nbconvert_exporter": "python",
   "pygments_lexer": "ipython3",
   "version": "3.9.13"
  }
 },
 "nbformat": 4,
 "nbformat_minor": 5
}
